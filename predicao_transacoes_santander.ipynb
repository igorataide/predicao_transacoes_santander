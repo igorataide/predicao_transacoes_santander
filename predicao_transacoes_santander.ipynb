{
 "cells": [
  {
   "cell_type": "markdown",
   "metadata": {},
   "source": [
    "# Predição do valor das transações de clientes potenciais do banco Santander"
   ]
  },
  {
   "cell_type": "markdown",
   "metadata": {},
   "source": [
    "Este é um projeto obtido pelo site do Kaggle de uma competição, para mais informações entre no site do kaggle pelo link abaixo do dataset. Neste projeto podemos observar como a escolha de uma métrica de comparaçaõ de resíduos adequada pode ser muito importante."
   ]
  },
  {
   "cell_type": "markdown",
   "metadata": {
    "id": "u5I6IqGTabns"
   },
   "source": [
    "Ajude **Santander** a identificar o valor das transações para cada cliente potencial. Esse é um primeiro passo que o **Santander** precisa acertar para personalizar seus serviços em grande escala."
   ]
  },
  {
   "cell_type": "markdown",
   "metadata": {
    "id": "eAeDxWfEaeU_"
   },
   "source": [
    "Baixa o dataset *train* no url seguinte, pois é o único que está com os labels:  \n",
    "https://www.kaggle.com/c/santander-value-prediction-challenge/data"
   ]
  },
  {
   "cell_type": "markdown",
   "metadata": {
    "id": "VUsBC2i3alci"
   },
   "source": [
    "O case podera ser quebrado nas **6** partes seguintes:  \n",
    "- **Identificar o problema**\n",
    "  - Qual o tipo (classificaçao, regressao, clustering) de problema e porque? \n",
    "- **Necessidades de aplicar transformaçoes?**\n",
    "  - Ex: *imputing* de valores null, *encoding* de colunas *string*, etc \n",
    "- **Separar os sets de treinamento e teste**\n",
    "- **Baseline**\n",
    "  - Achar uma baseline, um primeiro modelo para ter uma referencia\n",
    "- **Escolher a metrica**\n",
    "- **Melhorar o resultado**\n",
    "  - Feature engineering, otimizaçao do modelo, hiperparametros, etc"
   ]
  },
  {
   "cell_type": "code",
   "execution_count": 30,
   "metadata": {
    "colab": {
     "base_uri": "https://localhost:8080/",
     "height": 255
    },
    "id": "mZkOwu3sadpt",
    "outputId": "8f619948-bbb9-40aa-d7e7-169850de2ba1"
   },
   "outputs": [
    {
     "data": {
      "text/html": [
       "<div>\n",
       "<style scoped>\n",
       "    .dataframe tbody tr th:only-of-type {\n",
       "        vertical-align: middle;\n",
       "    }\n",
       "\n",
       "    .dataframe tbody tr th {\n",
       "        vertical-align: top;\n",
       "    }\n",
       "\n",
       "    .dataframe thead th {\n",
       "        text-align: right;\n",
       "    }\n",
       "</style>\n",
       "<table border=\"1\" class=\"dataframe\">\n",
       "  <thead>\n",
       "    <tr style=\"text-align: right;\">\n",
       "      <th></th>\n",
       "      <th>ID</th>\n",
       "      <th>target</th>\n",
       "      <th>48df886f9</th>\n",
       "      <th>0deb4b6a8</th>\n",
       "      <th>34b15f335</th>\n",
       "      <th>a8cb14b00</th>\n",
       "      <th>2f0771a37</th>\n",
       "      <th>30347e683</th>\n",
       "      <th>d08d1fbe3</th>\n",
       "      <th>6ee66e115</th>\n",
       "      <th>...</th>\n",
       "      <th>3ecc09859</th>\n",
       "      <th>9281abeea</th>\n",
       "      <th>8675bec0b</th>\n",
       "      <th>3a13ed79a</th>\n",
       "      <th>f677d4d13</th>\n",
       "      <th>71b203550</th>\n",
       "      <th>137efaa80</th>\n",
       "      <th>fb36b89d9</th>\n",
       "      <th>7e293fbaf</th>\n",
       "      <th>9fc776466</th>\n",
       "    </tr>\n",
       "  </thead>\n",
       "  <tbody>\n",
       "    <tr>\n",
       "      <th>0</th>\n",
       "      <td>000d6aaf2</td>\n",
       "      <td>38000000.0</td>\n",
       "      <td>0.0</td>\n",
       "      <td>0</td>\n",
       "      <td>0.0</td>\n",
       "      <td>0</td>\n",
       "      <td>0</td>\n",
       "      <td>0</td>\n",
       "      <td>0</td>\n",
       "      <td>0</td>\n",
       "      <td>...</td>\n",
       "      <td>0.0</td>\n",
       "      <td>0.0</td>\n",
       "      <td>0.0</td>\n",
       "      <td>0</td>\n",
       "      <td>0</td>\n",
       "      <td>0</td>\n",
       "      <td>0</td>\n",
       "      <td>0</td>\n",
       "      <td>0</td>\n",
       "      <td>0</td>\n",
       "    </tr>\n",
       "    <tr>\n",
       "      <th>1</th>\n",
       "      <td>000fbd867</td>\n",
       "      <td>600000.0</td>\n",
       "      <td>0.0</td>\n",
       "      <td>0</td>\n",
       "      <td>0.0</td>\n",
       "      <td>0</td>\n",
       "      <td>0</td>\n",
       "      <td>0</td>\n",
       "      <td>0</td>\n",
       "      <td>0</td>\n",
       "      <td>...</td>\n",
       "      <td>0.0</td>\n",
       "      <td>0.0</td>\n",
       "      <td>0.0</td>\n",
       "      <td>0</td>\n",
       "      <td>0</td>\n",
       "      <td>0</td>\n",
       "      <td>0</td>\n",
       "      <td>0</td>\n",
       "      <td>0</td>\n",
       "      <td>0</td>\n",
       "    </tr>\n",
       "    <tr>\n",
       "      <th>2</th>\n",
       "      <td>0027d6b71</td>\n",
       "      <td>10000000.0</td>\n",
       "      <td>0.0</td>\n",
       "      <td>0</td>\n",
       "      <td>0.0</td>\n",
       "      <td>0</td>\n",
       "      <td>0</td>\n",
       "      <td>0</td>\n",
       "      <td>0</td>\n",
       "      <td>0</td>\n",
       "      <td>...</td>\n",
       "      <td>0.0</td>\n",
       "      <td>0.0</td>\n",
       "      <td>0.0</td>\n",
       "      <td>0</td>\n",
       "      <td>0</td>\n",
       "      <td>0</td>\n",
       "      <td>0</td>\n",
       "      <td>0</td>\n",
       "      <td>0</td>\n",
       "      <td>0</td>\n",
       "    </tr>\n",
       "    <tr>\n",
       "      <th>3</th>\n",
       "      <td>0028cbf45</td>\n",
       "      <td>2000000.0</td>\n",
       "      <td>0.0</td>\n",
       "      <td>0</td>\n",
       "      <td>0.0</td>\n",
       "      <td>0</td>\n",
       "      <td>0</td>\n",
       "      <td>0</td>\n",
       "      <td>0</td>\n",
       "      <td>0</td>\n",
       "      <td>...</td>\n",
       "      <td>0.0</td>\n",
       "      <td>0.0</td>\n",
       "      <td>0.0</td>\n",
       "      <td>0</td>\n",
       "      <td>0</td>\n",
       "      <td>0</td>\n",
       "      <td>0</td>\n",
       "      <td>0</td>\n",
       "      <td>0</td>\n",
       "      <td>0</td>\n",
       "    </tr>\n",
       "    <tr>\n",
       "      <th>4</th>\n",
       "      <td>002a68644</td>\n",
       "      <td>14400000.0</td>\n",
       "      <td>0.0</td>\n",
       "      <td>0</td>\n",
       "      <td>0.0</td>\n",
       "      <td>0</td>\n",
       "      <td>0</td>\n",
       "      <td>0</td>\n",
       "      <td>0</td>\n",
       "      <td>0</td>\n",
       "      <td>...</td>\n",
       "      <td>0.0</td>\n",
       "      <td>0.0</td>\n",
       "      <td>0.0</td>\n",
       "      <td>0</td>\n",
       "      <td>0</td>\n",
       "      <td>0</td>\n",
       "      <td>0</td>\n",
       "      <td>0</td>\n",
       "      <td>0</td>\n",
       "      <td>0</td>\n",
       "    </tr>\n",
       "  </tbody>\n",
       "</table>\n",
       "<p>5 rows × 4993 columns</p>\n",
       "</div>"
      ],
      "text/plain": [
       "          ID      target  48df886f9  0deb4b6a8  34b15f335  a8cb14b00  \\\n",
       "0  000d6aaf2  38000000.0        0.0          0        0.0          0   \n",
       "1  000fbd867    600000.0        0.0          0        0.0          0   \n",
       "2  0027d6b71  10000000.0        0.0          0        0.0          0   \n",
       "3  0028cbf45   2000000.0        0.0          0        0.0          0   \n",
       "4  002a68644  14400000.0        0.0          0        0.0          0   \n",
       "\n",
       "   2f0771a37  30347e683  d08d1fbe3  6ee66e115  ...  3ecc09859  9281abeea  \\\n",
       "0          0          0          0          0  ...        0.0        0.0   \n",
       "1          0          0          0          0  ...        0.0        0.0   \n",
       "2          0          0          0          0  ...        0.0        0.0   \n",
       "3          0          0          0          0  ...        0.0        0.0   \n",
       "4          0          0          0          0  ...        0.0        0.0   \n",
       "\n",
       "   8675bec0b  3a13ed79a  f677d4d13  71b203550  137efaa80  fb36b89d9  \\\n",
       "0        0.0          0          0          0          0          0   \n",
       "1        0.0          0          0          0          0          0   \n",
       "2        0.0          0          0          0          0          0   \n",
       "3        0.0          0          0          0          0          0   \n",
       "4        0.0          0          0          0          0          0   \n",
       "\n",
       "   7e293fbaf  9fc776466  \n",
       "0          0          0  \n",
       "1          0          0  \n",
       "2          0          0  \n",
       "3          0          0  \n",
       "4          0          0  \n",
       "\n",
       "[5 rows x 4993 columns]"
      ]
     },
     "execution_count": 30,
     "metadata": {},
     "output_type": "execute_result"
    }
   ],
   "source": [
    "# carregando os dados \n",
    "\n",
    "import pandas as pd\n",
    "\n",
    "import warnings\n",
    "warnings.simplefilter(\"ignore\")\n",
    "\n",
    "df = pd.read_csv(\"train.csv\")\n",
    "df.head()"
   ]
  },
  {
   "cell_type": "code",
   "execution_count": 31,
   "metadata": {},
   "outputs": [
    {
     "data": {
      "text/plain": [
       "(4459, 4993)"
      ]
     },
     "execution_count": 31,
     "metadata": {},
     "output_type": "execute_result"
    }
   ],
   "source": [
    "# dimensão do dataset\n",
    "df.shape"
   ]
  },
  {
   "cell_type": "code",
   "execution_count": 32,
   "metadata": {},
   "outputs": [
    {
     "data": {
      "text/plain": [
       "ID           0\n",
       "target       0\n",
       "48df886f9    0\n",
       "0deb4b6a8    0\n",
       "34b15f335    0\n",
       "            ..\n",
       "71b203550    0\n",
       "137efaa80    0\n",
       "fb36b89d9    0\n",
       "7e293fbaf    0\n",
       "9fc776466    0\n",
       "Length: 4993, dtype: int64"
      ]
     },
     "execution_count": 32,
     "metadata": {},
     "output_type": "execute_result"
    }
   ],
   "source": [
    "# contagem de valores nulos \n",
    "df.isna().sum()"
   ]
  },
  {
   "cell_type": "markdown",
   "metadata": {},
   "source": [
    " 1. Como podemos ver, o dataset possui muitas colunas e as mesmas as colunas não possuem nomes por questões de segurança de dados.\n",
    " 2. Não é interessante para nehum modelo trabalhar com uma quantidade destas de colunas, portanto teremos que filtrar e pegar as melhores, ou seja, as com uma maior correlação com o target.\n",
    " 3. como já diz que o Santander quer identificar um valor de transações podemos intender que é um problema de regressão, pois se quer prever um valor."
   ]
  },
  {
   "cell_type": "code",
   "execution_count": 33,
   "metadata": {
    "colab": {
     "base_uri": "https://localhost:8080/"
    },
    "id": "BdTefCdX8i6x",
    "outputId": "c3f29f24-1fb7-4fc9-e483-89055f88c8e8"
   },
   "outputs": [
    {
     "name": "stdout",
     "output_type": "stream",
     "text": [
      "<class 'pandas.core.frame.DataFrame'>\n",
      "RangeIndex: 4459 entries, 0 to 4458\n",
      "Columns: 4993 entries, ID to 9fc776466\n",
      "dtypes: float64(1845), int64(3147), object(1)\n",
      "memory usage: 169.9+ MB\n"
     ]
    }
   ],
   "source": [
    "# informação do dataset\n",
    "df.info()"
   ]
  },
  {
   "cell_type": "code",
   "execution_count": 34,
   "metadata": {
    "colab": {
     "base_uri": "https://localhost:8080/"
    },
    "id": "72kesUA4-F2w",
    "outputId": "f1e16202-7263-4896-e0c2-9bae9a13cf28"
   },
   "outputs": [
    {
     "data": {
      "text/plain": [
       "count    4.459000e+03\n",
       "mean     5.944923e+06\n",
       "std      8.234312e+06\n",
       "min      3.000000e+04\n",
       "25%      6.000000e+05\n",
       "50%      2.260000e+06\n",
       "75%      8.000000e+06\n",
       "max      4.000000e+07\n",
       "Name: target, dtype: float64"
      ]
     },
     "execution_count": 34,
     "metadata": {},
     "output_type": "execute_result"
    }
   ],
   "source": [
    "# descrição das estatísticas do target\n",
    "df[\"target\"].describe()"
   ]
  },
  {
   "cell_type": "markdown",
   "metadata": {},
   "source": [
    "Pode-se ver que os intervalos de valores do taget são bem grandes, e além disso estão na casa dos milhões (valores monetários)."
   ]
  },
  {
   "cell_type": "markdown",
   "metadata": {},
   "source": [
    "Como tivemos valores nulos para tratamento, então partiremos para a próxima etapa"
   ]
  },
  {
   "cell_type": "code",
   "execution_count": 35,
   "metadata": {
    "id": "WQ-fKsIA7-tj"
   },
   "outputs": [],
   "source": [
    "# separação dos dados em variável target (y) e variaveis independentes (x)\n",
    "id = df[\"ID\"]\n",
    "y = df[\"target\"]\n",
    "X = df.drop([\"ID\", \"target\"], axis=1)"
   ]
  },
  {
   "cell_type": "markdown",
   "metadata": {
    "id": "dJb8t7tX9M1C"
   },
   "source": [
    "## Split train test"
   ]
  },
  {
   "cell_type": "code",
   "execution_count": 36,
   "metadata": {
    "id": "L43SyG6W8fj4"
   },
   "outputs": [],
   "source": [
    "# separando em treino e teste\n",
    "from sklearn.model_selection import train_test_split\n",
    "\n",
    "X_train, X_test, y_train, y_test = train_test_split(\n",
    "    X, y, test_size=0.20, random_state=42)"
   ]
  },
  {
   "cell_type": "markdown",
   "metadata": {
    "id": "7h8Jb7jG9ZHE"
   },
   "source": [
    "## Baseline"
   ]
  },
  {
   "cell_type": "code",
   "execution_count": 37,
   "metadata": {
    "id": "kbTNx1AC9Xhj"
   },
   "outputs": [],
   "source": [
    "# treinando uma baseline com modelo simples e utilizando a métrica MAE que é um valor médio dos resíduos (em valor monetário)\n",
    "from sklearn.linear_model import LinearRegression\n",
    "reg = LinearRegression().fit(X_train, y_train)"
   ]
  },
  {
   "cell_type": "code",
   "execution_count": 38,
   "metadata": {
    "colab": {
     "base_uri": "https://localhost:8080/"
    },
    "id": "gdud2sDZ9hZT",
    "outputId": "7dd3c772-593d-4c8f-b6d9-804a91695c85"
   },
   "outputs": [
    {
     "name": "stdout",
     "output_type": "stream",
     "text": [
      "13339.661810879845\n",
      "9011706425665.121\n"
     ]
    }
   ],
   "source": [
    "from sklearn.metrics import mean_absolute_error\n",
    "\n",
    "y_train_pred = reg.predict(X_train)\n",
    "y_pred = reg.predict(X_test)\n",
    "\n",
    "print(mean_absolute_error(y_train, y_train_pred)) # valores de treino\n",
    "print(mean_absolute_error(y_test, y_pred))        # valores de teste"
   ]
  },
  {
   "cell_type": "markdown",
   "metadata": {},
   "source": [
    "Aqui no código acima treinamos uma baseline e vimos que o MAE não seria uma métrica muito boa para esta comparação, pois os valores dos resíduos estão muitos altos, isto se dá pelos valores do dataset serão muito dispersos e grandes \n",
    "\n",
    "Além disso o modelo está overfitado pois os valores de teste estão com um erro muito maior em relação aos erros de treino. Isso se dá pois há muitas colunas e poucas linhas, mas vamos consertar isto."
   ]
  },
  {
   "cell_type": "markdown",
   "metadata": {},
   "source": [
    "### Selecionando apenas as melhores colunas para o modelo"
   ]
  },
  {
   "cell_type": "markdown",
   "metadata": {},
   "source": [
    "Esse código abaixo seleciona algumas colunas apenas do dataset, no caso 45, pois o daset possui quase 5 mil colunas, assim, ele pega as melhores colunas com correlação ao target."
   ]
  },
  {
   "cell_type": "code",
   "execution_count": 39,
   "metadata": {
    "colab": {
     "base_uri": "https://localhost:8080/"
    },
    "id": "0MIdc-mf9_J7",
    "outputId": "9881e60e-718e-4f60-c7f8-33485aa4241d"
   },
   "outputs": [],
   "source": [
    "from sklearn.feature_selection import SelectKBest, f_regression\n",
    "sel_kbest = SelectKBest(f_regression, k=45).fit(X_train, y_train)"
   ]
  },
  {
   "cell_type": "code",
   "execution_count": 40,
   "metadata": {
    "id": "HbvupIvx__ve"
   },
   "outputs": [],
   "source": [
    "X_train_sel = sel_kbest.transform(X_train)\n",
    "X_test_sel = sel_kbest.transform(X_test)"
   ]
  },
  {
   "cell_type": "code",
   "execution_count": 41,
   "metadata": {
    "colab": {
     "base_uri": "https://localhost:8080/"
    },
    "id": "9st1FXP7Ac8C",
    "outputId": "0bf8cb5b-34fb-4b0c-8181-a3106ee68b39"
   },
   "outputs": [
    {
     "data": {
      "text/plain": [
       "(3567, 45)"
      ]
     },
     "execution_count": 41,
     "metadata": {},
     "output_type": "execute_result"
    }
   ],
   "source": [
    "X_train_sel.shape"
   ]
  },
  {
   "cell_type": "code",
   "execution_count": 42,
   "metadata": {
    "colab": {
     "base_uri": "https://localhost:8080/"
    },
    "id": "s_dCxMioAerr",
    "outputId": "cd14fbf0-73ba-4706-b122-6918514af08d"
   },
   "outputs": [
    {
     "name": "stdout",
     "output_type": "stream",
     "text": [
      "5322548.588998502\n",
      "5230263.099091363\n"
     ]
    }
   ],
   "source": [
    "# treinando o modelo de regressão linear e predizendo com apenas as 45 colunas com maior correlação\n",
    "reg = LinearRegression().fit(X_train_sel, y_train)\n",
    "\n",
    "y_train_pred = reg.predict(X_train_sel)\n",
    "y_pred = reg.predict(X_test_sel)\n",
    "\n",
    "print(mean_absolute_error(y_train, y_train_pred))\n",
    "print(mean_absolute_error(y_test, y_pred))"
   ]
  },
  {
   "cell_type": "markdown",
   "metadata": {},
   "source": [
    "Aqui já pode-se ver que consertamos o problema de overfitting selecionado poucas colunas, pois agora, os valores calculados da métrica para os erros de treino e teste estão muito próximos, agora vamos vamos partir para uma melhor métrica."
   ]
  },
  {
   "cell_type": "markdown",
   "metadata": {
    "id": "jOU2GTIZB4Vj"
   },
   "source": [
    "## Escolher a metrica"
   ]
  },
  {
   "cell_type": "markdown",
   "metadata": {},
   "source": [
    "A métrica utilizada neste problema foi dita pelo Kaggle, e será a que iremos usar, pois esta métrica performa melhor com valores de intervalos muito grandes. \n",
    "\n",
    "Abaixo temos uma foto de explicação da métrica só para entendimento, pois o scikit-learn nos fornece um módulo dela pronto para os cálculos."
   ]
  },
  {
   "attachments": {
    "metrica.PNG": {
     "image/png": "[encoded data removed]"
    }
   },
   "cell_type": "markdown",
   "metadata": {},
   "source": [
    "![metrica.PNG](attachment:metrica.PNG)"
   ]
  },
  {
   "cell_type": "code",
   "execution_count": 43,
   "metadata": {
    "id": "to5tqN5aArbb"
   },
   "outputs": [],
   "source": [
    "# métrica dita pela kaggle\n",
    "from sklearn.metrics import mean_squared_log_error"
   ]
  },
  {
   "cell_type": "code",
   "execution_count": 44,
   "metadata": {
    "id": "1DnswI9JECry"
   },
   "outputs": [],
   "source": [
    "y_train_pred = reg.predict(X_train_sel)\n",
    "y_pred = reg.predict(X_test_sel)"
   ]
  },
  {
   "cell_type": "code",
   "execution_count": 45,
   "metadata": {
    "id": "Cw-YQHZdEz8f"
   },
   "outputs": [],
   "source": [
    "y_train = y_train[y_train_pred > 0]\n",
    "y_train_pred = y_train_pred[y_train_pred > 0]\n",
    "y_test = y_test[y_pred > 0]\n",
    "y_pred = y_pred[y_pred > 0]"
   ]
  },
  {
   "cell_type": "code",
   "execution_count": 46,
   "metadata": {
    "colab": {
     "base_uri": "https://localhost:8080/"
    },
    "id": "7NSBzCrtB9zW",
    "outputId": "b572156b-1433-4273-a0eb-b659e238a8af"
   },
   "outputs": [
    {
     "name": "stdout",
     "output_type": "stream",
     "text": [
      "3.911277869992661\n",
      "3.7452270716462395\n"
     ]
    }
   ],
   "source": [
    "print(mean_squared_log_error(y_train, y_train_pred))\n",
    "print(mean_squared_log_error(y_test, y_pred))"
   ]
  },
  {
   "cell_type": "markdown",
   "metadata": {},
   "source": [
    "Pode-se ver que o valor de RMSLE é muito melhor que o MAE, mas calma, vamos entender mellhor o porquê disso:\n",
    "1. O RMSLE não é atingido pelos outliers como os outras métricas, ou seja, como os valoresestão muitos dispersos, por serem muito altos, podem afetam a metrica passada.\n",
    "2. O RMSLE não é medido em escala (no caso monetário aqui), ele mede erro relativo e a escala do erro não é significativa\n",
    "3. Ele penaliza muitíssimo valores negativos, pois neste caso não queremos saber de valores negativos, queremos saber os valores das transações, porém o modelo de previsão pode prever valores negativos., portanto utilizamos >0."
   ]
  },
  {
   "cell_type": "markdown",
   "metadata": {
    "id": "UyP1k8B-Gegv"
   },
   "source": [
    "## Melhorar o resultado"
   ]
  },
  {
   "cell_type": "code",
   "execution_count": 47,
   "metadata": {
    "id": "yXDjGMK2G4gt"
   },
   "outputs": [],
   "source": [
    "# separando em treino e teste\n",
    "X_train, X_test, y_train, y_test = train_test_split(\n",
    "    X, y, test_size=0.20, random_state=42)"
   ]
  },
  {
   "cell_type": "code",
   "execution_count": 48,
   "metadata": {
    "colab": {
     "base_uri": "https://localhost:8080/"
    },
    "id": "kIAj8sOyG9WS",
    "outputId": "e2eea80c-1d45-41b1-f92a-f45211e88de1"
   },
   "outputs": [],
   "source": [
    "# selecionando as 45 melhores colunas\n",
    "sel_kbest = SelectKBest(f_regression, k=45).fit(X_train, y_train)\n",
    "X_train_sel = sel_kbest.transform(X_train)\n",
    "X_test_sel = sel_kbest.transform(X_test)"
   ]
  },
  {
   "cell_type": "code",
   "execution_count": 49,
   "metadata": {
    "colab": {
     "base_uri": "https://localhost:8080/"
    },
    "id": "FZmPPSHADpyO",
    "outputId": "7b2847d4-0a73-4f66-873c-3fea0c980fe7"
   },
   "outputs": [
    {
     "data": {
      "text/plain": [
       "RandomForestRegressor(max_depth=6, random_state=0)"
      ]
     },
     "execution_count": 49,
     "metadata": {},
     "output_type": "execute_result"
    }
   ],
   "source": [
    "# treinando o modelo de Random Forest\n",
    "from sklearn.ensemble import RandomForestRegressor\n",
    "regr = RandomForestRegressor(max_depth=6, random_state=0)\n",
    "regr.fit(X_train_sel, y_train)"
   ]
  },
  {
   "cell_type": "code",
   "execution_count": 50,
   "metadata": {
    "colab": {
     "base_uri": "https://localhost:8080/"
    },
    "id": "P6ihjCdPGyGr",
    "outputId": "b269f7d0-0a66-4e12-fb2e-a127b159d183"
   },
   "outputs": [
    {
     "name": "stdout",
     "output_type": "stream",
     "text": [
      "3.832475327822927\n",
      "3.719739927585444\n"
     ]
    }
   ],
   "source": [
    "# fazendo a predição e calculando as métricas\n",
    "y_train_pred = regr.predict(X_train_sel)\n",
    "y_pred = regr.predict(X_test_sel)\n",
    "\n",
    "\n",
    "print(mean_squared_log_error(y_train, y_train_pred))\n",
    "print(mean_squared_log_error(y_test, y_pred))"
   ]
  },
  {
   "cell_type": "code",
   "execution_count": 51,
   "metadata": {
    "colab": {
     "base_uri": "https://localhost:8080/"
    },
    "id": "MzNPfSDZHK-9",
    "outputId": "46daf817-1648-4402-941a-09fe1831182e"
   },
   "outputs": [
    {
     "data": {
      "text/plain": [
       "GridSearchCV(estimator=RandomForestRegressor(n_jobs=-1, random_state=0),\n",
       "             param_grid={'max_depth': [2, 6, 10, 20],\n",
       "                         'n_estimators': [20, 50, 100, 200]})"
      ]
     },
     "execution_count": 51,
     "metadata": {},
     "output_type": "execute_result"
    }
   ],
   "source": [
    "# melhorando hiperparâmetros com Gridsearch\n",
    "from sklearn.model_selection import GridSearchCV\n",
    "parameters = {'max_depth':[2, 6, 10, 20], 'n_estimators':[20, 50, 100, 200]}\n",
    "regr = RandomForestRegressor(random_state=0, n_jobs=-1)\n",
    "\n",
    "clf = GridSearchCV(regr, parameters)\n",
    "clf.fit(X_train_sel, y_train)"
   ]
  },
  {
   "cell_type": "code",
   "execution_count": 52,
   "metadata": {
    "colab": {
     "base_uri": "https://localhost:8080/"
    },
    "id": "SdotSaOqIDRx",
    "outputId": "6c2e3217-9dc6-469c-f763-3b3b90662c6c"
   },
   "outputs": [
    {
     "name": "stdout",
     "output_type": "stream",
     "text": [
      "2.6419218238697284\n",
      "3.229333335021272\n"
     ]
    }
   ],
   "source": [
    "# fazendo a predição com os melhores parâmetros\n",
    "y_train_pred = clf.predict(X_train_sel)\n",
    "y_pred = clf.predict(X_test_sel)\n",
    "\n",
    "\n",
    "print(mean_squared_log_error(y_train, y_train_pred))\n",
    "print(mean_squared_log_error(y_test, y_pred))"
   ]
  },
  {
   "cell_type": "markdown",
   "metadata": {},
   "source": [
    "Podemos concluir que esta foi a melhor predição, melhorando os hiperparâmetros com a métrica de RMSLE. "
   ]
  },
  {
   "cell_type": "code",
   "execution_count": 54,
   "metadata": {
    "colab": {
     "base_uri": "https://localhost:8080/"
    },
    "id": "4aMG2xmYIHPN",
    "outputId": "90f08a54-7873-48f6-ba4e-a35ed3f7ea43"
   },
   "outputs": [
    {
     "data": {
      "text/plain": [
       "RandomForestRegressor(max_depth=20, n_estimators=200, n_jobs=-1, random_state=0)"
      ]
     },
     "execution_count": 54,
     "metadata": {},
     "output_type": "execute_result"
    }
   ],
   "source": [
    "# obtendo os melhores valores de hiperparâmetros\n",
    "clf.best_estimator_"
   ]
  }
 ],
 "metadata": {
  "colab": {
   "collapsed_sections": [],
   "name": "RGS 13 - Case 2.ipynb",
   "provenance": []
  },
  "kernelspec": {
   "display_name": "Python 3 (ipykernel)",
   "language": "python",
   "name": "python3"
  },
  "language_info": {
   "codemirror_mode": {
    "name": "ipython",
    "version": 3
   },
   "file_extension": ".py",
   "mimetype": "text/x-python",
   "name": "python",
   "nbconvert_exporter": "python",
   "pygments_lexer": "ipython3",
   "version": "3.8.11"
  }
 },
 "nbformat": 4,
 "nbformat_minor": 1
}
